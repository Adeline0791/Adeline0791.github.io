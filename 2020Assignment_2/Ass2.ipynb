{
 "cells": [
  {
   "cell_type": "code",
   "execution_count": null,
   "metadata": {},
   "outputs": [],
   "source": [
    "#!/usr/bin/env python\n",
    "# coding: utf-8\n",
    "\n",
    "# In[ ]:\n",
    "\n",
    "\n",
    "from flask import Flask, render_template\n",
    "import requests\n",
    "    \n",
    "app = Flask(__name__)\n",
    "\n",
    "@app.route(\"/\")\n",
    "def home():\n",
    "    user = {\"name\":\"Christmasactivities2\"}\n",
    "    headers = {'Authorization': 'Bearer keyzbRdSbMsfNyECL',}\n",
    "    params = (('view', 'Grid view'),)\n",
    "\n",
    "    r = requests.get('https://api.airtable.com/v0/appurHOshPUkwkXBF/Table%201?api_key=keyzbRdSbMsfNyECL', headers=headers, params=params)\n",
    "    dict = r.json()\n",
    "    dataset = []\n",
    "    for i in dict[\"records\"]:\n",
    "        dict = i['fields']\n",
    "        dataset.append(dict)\n",
    "    return render_template('index.html',album_user=user, dataset=dataset)\n",
    "\n",
    "if __name__ == '__main__':\n",
    "    from werkzeug.serving import run_simple\n",
    "    run_simple('localhost', 9010, app)\n",
    "# if __name__ == '__main__':\n",
    "   # app.run(debug = True)\n",
    "\n",
    "\n",
    "# In[ ]:"
   ]
  },
  {
   "cell_type": "code",
   "execution_count": null,
   "metadata": {},
   "outputs": [],
   "source": []
  }
 ],
 "metadata": {
  "kernelspec": {
   "display_name": "Python 3",
   "language": "python",
   "name": "python3"
  },
  "language_info": {
   "codemirror_mode": {
    "name": "ipython",
    "version": 3
   },
   "file_extension": ".py",
   "mimetype": "text/x-python",
   "name": "python",
   "nbconvert_exporter": "python",
   "pygments_lexer": "ipython3",
   "version": "3.7.4"
  }
 },
 "nbformat": 4,
 "nbformat_minor": 4
}

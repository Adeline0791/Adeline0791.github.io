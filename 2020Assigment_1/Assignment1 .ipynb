{
 "cells": [
  {
   "cell_type": "code",
   "execution_count": 3,
   "metadata": {},
   "outputs": [
    {
     "name": "stdout",
     "output_type": "stream",
     "text": [
      "Requirement already satisfied: PyMySQL in e:\\anaconda\\lib\\site-packages (0.9.3)\n"
     ]
    }
   ],
   "source": [
    "!pip install PyMySQL"
   ]
  },
  {
   "cell_type": "code",
   "execution_count": 4,
   "metadata": {},
   "outputs": [],
   "source": [
    "import pymysql.cursors \n",
    "connection = pymysql.connect(host=\"localhost\", \n",
    "                             user=\"root\",\n",
    "                             passwd=\"root\", \n",
    "                             db=\"christmas_market\",\n",
    "                             charset='utf8mb4', \n",
    "                             cursorclass=pymysql.cursors.DictCursor)"
   ]
  },
  {
   "cell_type": "code",
   "execution_count": 5,
   "metadata": {},
   "outputs": [
    {
     "name": "stdout",
     "output_type": "stream",
     "text": [
      "Requirement already satisfied: requests in e:\\anaconda\\lib\\site-packages (2.22.0)\n",
      "Requirement already satisfied: urllib3!=1.25.0,!=1.25.1,<1.26,>=1.21.1 in e:\\anaconda\\lib\\site-packages (from requests) (1.24.2)\n",
      "Requirement already satisfied: chardet<3.1.0,>=3.0.2 in e:\\anaconda\\lib\\site-packages (from requests) (3.0.4)\n",
      "Requirement already satisfied: certifi>=2017.4.17 in e:\\anaconda\\lib\\site-packages (from requests) (2019.9.11)\n",
      "Requirement already satisfied: idna<2.9,>=2.5 in e:\\anaconda\\lib\\site-packages (from requests) (2.8)\n"
     ]
    }
   ],
   "source": [
    "!pip install requests"
   ]
  },
  {
   "cell_type": "code",
   "execution_count": 6,
   "metadata": {},
   "outputs": [
    {
     "name": "stdout",
     "output_type": "stream",
     "text": [
      "\n",
      "\n",
      "[{'City': 'Aachen', 'State': 'Nordrhein-Westfalen', 'Date': 'Nov 23-Dec 23', 'Location': 'Aachen Town Hall', 'Time': '11am-9pm'}, {'City': 'Augsburg', 'State': 'Bavaria', 'Date': 'Nov 26-Dec 24', 'Location': 'City hall', 'Time': '10am-8pm (Sun-Thu), 10am-9.30pm (Fri-Sat)'}, {'City': 'Baden-Baden', 'State': 'Baden-Württemberg', 'Date': 'Nov 26-Dec 30', 'Location': 'Lichtentaller Allee', 'Time': '11am-9pm daily'}, {'City': 'Berlin', 'State': 'Berlin', 'Date': 'Nov 23-Dec 31', 'Location': 'Various locations', 'Time': '11am-10pm (some markets open at 10am, while one or two begin at 2pm)'}, {'City': 'Bielefeld', 'State': 'Nordrhein-Westfalen', 'Date': 'Nov 26-Dec 30', 'Location': 'Jahnplatz', 'Time': '11am-9pm (Sun-Thu), 11am-10pm (Fri-Sat)'}, {'City': 'Bochum', 'State': 'Nordrhein-Westfalen', 'Date': 'Nov 22-Dec 23', 'Location': 'Dr Ruer-Platz Square', 'Time': '11am-10pm daily'}, {'City': 'Bonn', 'State': 'Nordrhein-Westfalen', 'Date': 'Nov 23-Dec 23', 'Location': 'Münsterplatz, Bottlerplatz Windeckstrasse, Friedensplatz and Vivatsgasse', 'Time': '11am-9pm daily'}, {'City': 'Braunschweig', 'State': 'Sachsen-Anhalt', 'Date': 'Nov 28-Dec 29', 'Location': 'Platz der Deutschen Einheit', 'Time': '10am-9pm (Mon-Sat); 11am-9pm (Sun)'}, {'City': 'Bremen', 'State': 'Bremen', 'Date': 'Nov 26-Dec 23', 'Location': 'Town Hall', 'Time': '10am-8.30pm (Mon-Thurs); 10am-9pm (Fri-Sat); 11am-8.30pm (Sundays)'}, {'City': 'Chemnitz', 'State': 'Freistaat Sachsen', 'Date': 'Nov 30-Dec 23', 'Location': 'Markt, Neumarkt, Rosenhof, Jakobikirchplatz and Innere Klosterstraße', 'Time': '10am-8pm daily'}, {'City': 'Cologne', 'State': 'Nordrhein-Westfalen', 'Date': 'Nov 26-Dec 23', 'Location': \"Cathedral Christmas Market, Angels'Christmas Market, Harbour Christmas Market, Old Market Christmas, Village of St Nicholas, Christmas Market in the Stadtgarten and the Gay and Lesbian Christmas Market\", 'Time': '11am-9pm (Sun-Wed); 11am-10pm (Thurs-Fri); 10am-10pm (Sat)'}, {'City': 'Dortmund', 'State': 'Nordrhein-Westfalen', 'Date': 'Nov 22-Dec 30', 'Location': 'Dortmunder Weihnachtsmarkt', 'Time': '10am-9pm (Mon-Thurs); 10am-10pm (Fri-Sat); 12pm-9pm Sundays'}, {'City': 'Dresden', 'State': 'Sachsen-Anhalt', 'Date': 'Nov 28-Dec 24', 'Location': 'Altmarkt Square', 'Time': '10am-9pm'}, {'City': 'Duisburg', 'State': 'Nordrhein-Westfalen', 'Date': 'Nov 22-Dec 30', 'Location': 'Königstrasse', 'Time': 'TBC'}, {'City': 'Dusseldorf', 'State': 'Nordrhein-Westfalen', 'Date': 'Nov 22-Dec 30', 'Location': 'Marktplatz, Heinrich-Heine-Platz, Flinger Straße, Stadtbrückchen, Schadowplatz, Jan-Wellem-Platz, Schadowstraße', 'Time': '11am-8pm (Sun-Thurs); 11am-9pm (Fri-Sat)'}, {'City': 'Erfurt', 'State': 'Thüringen', 'Date': 'Nov 28-Dec 22', 'Location': 'Domplatz (Cathedral Square)', 'Time': '10am-8pm (Sun-Wed); 10am-9pm (Thur-Fri); 10am-10pm (Sat)'}, {'City': 'Essen', 'State': 'Nordrhein-Westfalen', 'Date': 'Nov 22-Dec 23', 'Location': 'Flachsmarkt market square', 'Time': '11am-9pm (Sun-Thurs); 11am-10pm (Fri-Sat)'}, {'City': 'Frankfurt', 'State': 'Hesse', 'Date': 'Nov 26-Dec 22', 'Location': 'Römerberg square, Paulsplatz and Mainkai quay', 'Time': '10am-9pm (Mon-Sat); 11am-9pm (Sun)'}, {'City': 'Freiburg im Breisgau', 'State': 'Baden-Württemberg', 'Date': 'Nov 22-Dec 23', 'Location': 'Rathausplatz, Franziskanerstraße, Unterlindenplatz and Kartoffelmarkt', 'Time': '10am-8.30pm (Mon-Sat), 11.30am-7.30pm (Sun)'}, {'City': 'Hagen', 'State': 'Nordrhein-Westfalen', 'Date': 'TBC', 'Location': 'Friedrich-Ebert-Platz on the Hohenzollernstraße and the Passage Volkspark to Volkspark, ending at the Adolf-Nassau-Platz or Theaterplatz', 'Time': 'TBC'}, {'City': 'Halle', 'State': 'Freistaat Sachsen', 'Date': 'Nov 27-Dec 23', 'Location': 'Marktplatz', 'Time': 'TBC'}, {'City': 'Hamburg', 'State': 'Hamburg', 'Date': 'Nov 26-Dec 30', 'Location': 'Various locations', 'Time': '11am-8pm'}, {'City': 'Hanover', 'State': 'Freistaat Sachsen', 'Date': 'Nov 28-Dec 22', 'Location': 'Market Church, Ballhofplatz', 'Time': '11am-9pm'}, {'City': 'Heidelberg', 'State': 'Baden-Württemberg', 'Date': 'Nov 26-Dec 22', 'Location': 'Kornmarkt, Marktplatz, Universitätsplatz, Anatomiegarten and the Bismarckplatz', 'Time': '11am-9pm (Sun-Fri); 10am-9pm (Sat)'}, {'City': 'Jena', 'State': 'Thüringen', 'Date': 'Nov 26-Dec 23', 'Location': 'Market Square', 'Time': '10am-9pm daily'}, {'City': 'Karlsruhe', 'State': 'Baden-Württemberg', 'Date': 'Nov 27-Dec 23', 'Location': 'Friedrichsplatz', 'Time': '10am-9pm (Sun-Thu); 11am-10pm (Fri-Sat)'}, {'City': 'Kassel', 'State': 'Hesse', 'Date': 'Nov 26-Dec 30', 'Location': 'Königsplatz and Friedrichsplatz squares', 'Time': '11am-8pm daily'}, {'City': 'Kiel', 'State': 'Schleswig-Holstein', 'Date': 'Nov 27-Dec 23', 'Location': 'Rathausplatz, Holstenstraße, Asmus-Bremer-Platz and Alte Markt', 'Time': '10am-8pm (Mon-Sat), 11am-8pm (Sun)'}, {'City': 'Konstanz', 'State': 'Baden-Württemberg', 'Date': 'Nov 29-Dec 22', 'Location': 'the heart of the old town, on to the boats and shores of Lake Constance', 'Time': '11am-8pm (Sun-Thur); 11am-9.30pm (Fri-Sat)'}, {'City': 'Leipzig', 'State': 'Sachsen-Anhalt', 'Date': 'Nov 27-Dec 23', 'Location': 'Old Town Hall', 'Time': '10am-9pm (Sun-Thurs); 10am-10pm (Fri-Sat)'}, {'City': 'Lubeck', 'State': 'Schleswig-Holstein', 'Date': 'Nov 26-Dec 30', 'Location': 'St Mary’s Church', 'Time': '11am-9pm (Sun-Thurs); 11am-10pm (Fri-Sat)'}, {'City': 'Magdeburg', 'State': 'Sachsen-Anhalt', 'Date': 'Nov 26-Dec 23', 'Location': 'Town Hall', 'Time': '11am-10pm (Mon-Thu); 11am-11pm (Fri-Sat); 11am-9pm (Sun)'}, {'City': 'Mainz', 'State': 'Rheinland-Pfalz', 'Date': 'Nov 29-Dec 23', 'Location': 'Market Square at St Martin’s Cathedral', 'Time': '11am-8.30pm (Sun-Thu); 11am-9pm (Fri-Sat)'}, {'City': 'Mannheim', 'State': 'Baden-Württemberg', 'Date': 'Nov 28-Dec 23', 'Location': 'Town centre, by the Wasserturn', 'Time': '11am-9pm daily'}, {'City': 'Munich', 'State': 'Bavaria', 'Date': 'Nov 27-Dec 24', 'Location': 'Marienplatz, Neuhauser Strasse, Theresienwiese, Sendlinger Tor, Wittelsbacherplatz, Castle Blutenburg', 'Time': '11am-8pm (approx; times vary per location)'}, {'City': 'Münster', 'State': 'Nordrhein-Westfalen', 'Date': 'Nov 26-Dec 23', 'Location': 'Courtyard of the town hall (Rathaus-Innenhof), the Lichtermarkt St. Lamberti at the foot of the impressive Lamberti Church, the Kiepenkerlsmarkt around the Kiepenkerl Memorial, the Aegidii Market in front of the Aegidii Church and the Gibelhüüskesmarkt in front of the historic Überwasser Church.', 'Time': '11am-8pm (Sun-Thurs); 11am-9pm (Fri-Sat)'}, {'City': 'Nuremberg', 'State': 'Bavaria', 'Date': 'Nov 30-Dec 24', 'Location': 'Hauptmarkt', 'Time': '10am-9pm'}, {'City': 'Oberhausen', 'State': 'Nordrhein-Westfalen', 'Date': 'Market Square: Nov 21-Dec 23; CentrO: Nov 16-Dec 23', 'Location': 'Market Square, CentrO', 'Time': 'Market Square: 12pm-8pm; CentrO: 11am-10pm (Mon-Fri), 10am-10pm (Sat), 11am-9pm (Sun)'}, {'City': 'Oldenburg', 'State': 'Niedersachsen', 'Date': 'Nov 27-Dec 22', 'Location': 'Town hall, Schlossplatz', 'Time': '11am-8.30pm (Sun-Thu); 11am-9.30pm (Fri-Sat)'}, {'City': 'Osnabrück', 'State': 'Niedersachsen', 'Date': 'Nov 26-Dec 22', 'Location': 'Cathedral St Peter', 'Time': '12pm-9pm (Sun-Thu); 12pm-10pm (Fri-Sat)'}, {'City': 'Rostock', 'State': 'Mecklenburg-Vorpommern', 'Date': 'Nov 26-Dec 22', 'Location': 'Neuer Markt', 'Time': '10am-8.30pm (Mon-Thu); 10am-9.30pm (Sat); 11am-8.30pm (Sun)'}, {'City': 'Rothenburg', 'State': 'Bavaria', 'Date': 'Nov 30-Dec 23', 'Location': 'Marktplatz', 'Time': '11am-7pm (Mon-Thu), 11am-8pm (Fri-Sun)'}, {'City': 'Saarbrücken', 'State': 'Saarland', 'Date': 'Nov 26-Dec 23', 'Location': 'St Johanner Markt Square, Bahnhofstrasse', 'Time': '12pm-9pm daily'}, {'City': 'Stuttgart', 'State': 'Baden-Württemberg', 'Date': 'Nov 28-Dec 23', 'Location': 'Various locations; see map', 'Time': '10am-9pm (Mon-Thurs); 10am-10pm (Fri-Sat); 11am-9pm Sundays'}, {'City': 'Wiesbaden', 'State': 'Hesse', 'Date': 'Nov 27-Dec 23', 'Location': 'Schlossplatz', 'Time': '10.30am-9pm (Mon-Thu); 10.30am-9.30pm (Sat); 12pm-9pm (Sun)'}]\n",
      "\n",
      "\n"
     ]
    }
   ],
   "source": [
    "with connection.cursor() as cursor:\n",
    "        sql = \"SELECT * FROM information\"\n",
    "        cursor.execute(sql)\n",
    "        result = cursor.fetchall()\n",
    "        dataset = []\n",
    "        temp = {}\n",
    "        i = 0\n",
    "        for row in result:\n",
    "            temp[i] = row\n",
    "            dataset.append(temp[i])\n",
    "            i = i + 1\n",
    "        print('\\n')\n",
    "        print(dataset)\n",
    "        print('\\n')"
   ]
  },
  {
   "cell_type": "code",
   "execution_count": 7,
   "metadata": {},
   "outputs": [
    {
     "name": "stdout",
     "output_type": "stream",
     "text": [
      "[{'City': 'Berlin', 'State': 'Berlin', 'Date': 'Nov 23-Dec 31', 'Location': 'Various locations', 'Time': '11am-10pm (some markets open at 10am, while one or two begin at 2pm)'}, {'City': 'Cologne', 'State': 'Nordrhein-Westfalen', 'Date': 'Nov 26-Dec 23', 'Location': \"Cathedral Christmas Market, Angels'Christmas Market, Harbour Christmas Market, Old Market Christmas, Village of St Nicholas, Christmas Market in the Stadtgarten and the Gay and Lesbian Christmas Market\", 'Time': '11am-9pm (Sun-Wed); 11am-10pm (Thurs-Fri); 10am-10pm (Sat)'}, {'City': 'Hamburg', 'State': 'Hamburg', 'Date': 'Nov 26-Dec 30', 'Location': 'Various locations', 'Time': '11am-8pm'}, {'City': 'Munich', 'State': 'Bavaria', 'Date': 'Nov 27-Dec 24', 'Location': 'Marienplatz, Neuhauser Strasse, Theresienwiese, Sendlinger Tor, Wittelsbacherplatz, Castle Blutenburg', 'Time': '11am-8pm (approx; times vary per location)'}, {'City': 'Stuttgart', 'State': 'Baden-Württemberg', 'Date': 'Nov 28-Dec 23', 'Location': 'Various locations; see map', 'Time': '10am-9pm (Mon-Thurs); 10am-10pm (Fri-Sat); 11am-9pm Sundays'}, {'City': 'Münster', 'State': 'Nordrhein-Westfalen', 'Date': 'Nov 26-Dec 23', 'Location': 'Courtyard of the town hall (Rathaus-Innenhof), the Lichtermarkt St. Lamberti at the foot of the impressive Lamberti Church, the Kiepenkerlsmarkt around the Kiepenkerl Memorial, the Aegidii Market in front of the Aegidii Church and the Gibelhüüskesmarkt in front of the historic Überwasser Church.', 'Time': '11am-8pm (Sun-Thurs); 11am-9pm (Fri-Sat)'}, {'City': 'Dortmund', 'State': 'Nordrhein-Westfalen', 'Date': 'Nov 22-Dec 30', 'Location': 'Dortmunder Weihnachtsmarkt', 'Time': '10am-9pm (Mon-Thurs); 10am-10pm (Fri-Sat); 12pm-9pm Sundays'}, {'City': 'Dusseldorf', 'State': 'Nordrhein-Westfalen', 'Date': 'Nov 22-Dec 30', 'Location': 'Marktplatz, Heinrich-Heine-Platz, Flinger Straße, Stadtbrückchen, Schadowplatz, Jan-Wellem-Platz, Schadowstraße', 'Time': '11am-8pm (Sun-Thurs); 11am-9pm (Fri-Sat)'}, {'City': 'Dresden', 'State': 'Sachsen-Anhalt', 'Date': 'Nov 28-Dec 24', 'Location': 'Altmarkt Square', 'Time': '10am-9pm'}, {'City': 'Leipzig', 'State': 'Sachsen-Anhalt', 'Date': 'Nov 27-Dec 23', 'Location': 'Old Town Hall', 'Time': '10am-9pm (Sun-Thurs); 10am-10pm (Fri-Sat)'}, {'City': 'Nuremberg', 'State': 'Bavaria', 'Date': 'Nov 30-Dec 24', 'Location': 'Hauptmarkt', 'Time': '10am-9pm'}, {'City': 'Bremen', 'State': 'Bremen', 'Date': 'Nov 26-Dec 23', 'Location': 'Town Hall', 'Time': '10am-8.30pm (Mon-Thurs); 10am-9pm (Fri-Sat); 11am-8.30pm (Sundays)'}, {'City': 'Aachen', 'State': 'Nordrhein-Westfalen', 'Date': 'Nov 23-Dec 23', 'Location': 'Aachen Town Hall', 'Time': '11am-9pm'}, {'City': 'Hanover', 'State': 'Freistaat Sachsen', 'Date': 'Nov 28-Dec 22', 'Location': 'Market Church, Ballhofplatz', 'Time': '11am-9pm'}, {'City': 'Essen', 'State': 'Nordrhein-Westfalen', 'Date': 'Nov 22-Dec 23', 'Location': 'Flachsmarkt market square', 'Time': '11am-9pm (Sun-Thurs); 11am-10pm (Fri-Sat)'}, {'City': 'Heidelberg', 'State': 'Baden-Württemberg', 'Date': 'Nov 26-Dec 22', 'Location': 'Kornmarkt, Marktplatz, Universitätsplatz, Anatomiegarten and the Bismarckplatz', 'Time': '11am-9pm (Sun-Fri); 10am-9pm (Sat)'}, {'City': 'Konstanz', 'State': 'Baden-Württemberg', 'Date': 'Nov 29-Dec 22', 'Location': 'the heart of the old town, on to the boats and shores of Lake Constance', 'Time': '11am-8pm (Sun-Thur); 11am-9.30pm (Fri-Sat)'}, {'City': 'Erfurt', 'State': 'Thüringen', 'Date': 'Nov 28-Dec 22', 'Location': 'Domplatz (Cathedral Square)', 'Time': '10am-8pm (Sun-Wed); 10am-9pm (Thur-Fri); 10am-10pm (Sat)'}, {'City': 'Lubeck', 'State': 'Schleswig-Holstein', 'Date': 'Nov 26-Dec 30', 'Location': 'St Mary’s Church', 'Time': '11am-9pm (Sun-Thurs); 11am-10pm (Fri-Sat)'}, {'City': 'Mainz', 'State': 'Rheinland-Pfalz', 'Date': 'Nov 29-Dec 23', 'Location': 'Market Square at St Martin’s Cathedral', 'Time': '11am-8.30pm (Sun-Thu); 11am-9pm (Fri-Sat)'}, {'City': 'Karlsruhe', 'State': 'Baden-Württemberg', 'Date': 'Nov 27-Dec 23', 'Location': 'Friedrichsplatz', 'Time': '10am-9pm (Sun-Thu); 11am-10pm (Fri-Sat)'}, {'City': 'Braunschweig', 'State': 'Sachsen-Anhalt', 'Date': 'Nov 28-Dec 29', 'Location': 'Platz der Deutschen Einheit', 'Time': '10am-9pm (Mon-Sat); 11am-9pm (Sun)'}, {'City': 'Frankfurt', 'State': 'Hesse', 'Date': 'Nov 26-Dec 22', 'Location': 'Römerberg square, Paulsplatz and Mainkai quay', 'Time': '10am-9pm (Mon-Sat); 11am-9pm (Sun)'}, {'City': 'Bonn', 'State': 'Nordrhein-Westfalen', 'Date': 'Nov 23-Dec 23', 'Location': 'Münsterplatz, Bottlerplatz Windeckstrasse, Friedensplatz and Vivatsgasse', 'Time': '11am-9pm daily'}, {'City': 'Kassel', 'State': 'Hesse', 'Date': 'Nov 26-Dec 30', 'Location': 'Königsplatz and Friedrichsplatz squares', 'Time': '11am-8pm daily'}, {'City': 'Baden-Baden', 'State': 'Baden-Württemberg', 'Date': 'Nov 26-Dec 30', 'Location': 'Lichtentaller Allee', 'Time': '11am-9pm daily'}, {'City': 'Osnabrück', 'State': 'Niedersachsen ', 'Date': 'Nov 26-Dec 22', 'Location': 'Cathedral St Peter', 'Time': '12pm-9pm (Sun-Thu); 12pm-10pm (Fri-Sat)'}, {'City': 'Oldenburg', 'State': 'Niedersachsen ', 'Date': 'Nov 27-Dec 22', 'Location': 'Town hall, Schlossplatz', 'Time': '11am-8.30pm (Sun-Thu); 11am-9.30pm (Fri-Sat)'}, {'City': 'Wiesbaden', 'State': 'Hesse', 'Date': 'Nov 27-Dec 23', 'Location': 'Schlossplatz', 'Time': '10.30am-9pm (Mon-Thu); 10.30am-9.30pm (Sat); 12pm-9pm (Sun)'}, {'City': 'Rostock', 'State': 'Mecklenburg-Vorpommern', 'Date': 'Nov 26-Dec 22', 'Location': 'Neuer Markt', 'Time': '10am-8.30pm (Mon-Thu); 10am-9.30pm (Sat); 11am-8.30pm (Sun)'}, {'City': 'Magdeburg', 'State': 'Sachsen-Anhalt', 'Date': 'Nov 26-Dec 23', 'Location': 'Town Hall', 'Time': '11am-10pm (Mon-Thu); 11am-11pm (Fri-Sat); 11am-9pm (Sun)'}, {'City': 'Mannheim', 'State': 'Baden-Württemberg', 'Date': 'Nov 28-Dec 23', 'Location': 'Town centre, by the Wasserturn', 'Time': '11am-9pm daily'}, {'City': 'Oberhausen', 'State': 'Nordrhein-Westfalen', 'Date': 'Market Square: Nov 21-Dec 23; CentrO: Nov 16-Dec 23', 'Location': 'Market Square, CentrO', 'Time': 'Market Square: 12pm-8pm; CentrO: 11am-10pm (Mon-Fri), 10am-10pm (Sat), 11am-9pm (Sun)'}, {'City': 'Augsburg', 'State': 'Bavaria', 'Date': 'Nov 26-Dec 24', 'Location': 'City hall', 'Time': '10am-8pm (Sun-Thu), 10am-9.30pm (Fri-Sat)'}, {'City': 'Rothenburg', 'State': 'Bavaria', 'Date': 'Nov 30-Dec 23', 'Location': 'Marktplatz', 'Time': '11am-7pm (Mon-Thu), 11am-8pm (Fri-Sun)'}, {'City': 'Bochum', 'State': 'Nordrhein-Westfalen', 'Date': 'Nov 22-Dec 23', 'Location': 'Dr Ruer-Platz Square', 'Time': '11am-10pm daily'}, {'City': 'Chemnitz', 'State': 'Freistaat Sachsen', 'Date': 'Nov 30-Dec 23', 'Location': 'Markt, Neumarkt, Rosenhof, Jakobikirchplatz and Innere Klosterstraße', 'Time': '10am-8pm daily'}, {'City': 'Kiel', 'State': 'Schleswig-Holstein', 'Date': 'Nov 27-Dec 23', 'Location': 'Rathausplatz, Holstenstraße, Asmus-Bremer-Platz and Alte Markt', 'Time': '10am-8pm (Mon-Sat), 11am-8pm (Sun)'}, {'City': 'Bielefeld', 'State': 'Nordrhein-Westfalen', 'Date': 'Nov 26-Dec 30', 'Location': 'Jahnplatz', 'Time': '11am-9pm (Sun-Thu), 11am-10pm (Fri-Sat)'}, {'City': 'Duisburg', 'State': 'Nordrhein-Westfalen', 'Date': 'Nov 22-Dec 30', 'Location': 'Königstrasse', 'Time': 'TBC'}, {'City': 'Saarbrücken', 'State': 'Saarland', 'Date': 'Nov 26-Dec 23', 'Location': 'St Johanner Markt Square, Bahnhofstrasse', 'Time': '12pm-9pm daily'}, {'City': 'Jena', 'State': 'Thüringen', 'Date': 'Nov 26-Dec 23', 'Location': 'Market Square', 'Time': '10am-9pm daily'}, {'City': 'Halle', 'State': 'Freistaat Sachsen', 'Date': 'Nov 27-Dec 23', 'Location': 'Marktplatz', 'Time': 'TBC'}, {'City': 'Hagen', 'State': 'Nordrhein-Westfalen', 'Date': 'TBC', 'Location': 'Friedrich-Ebert-Platz on the Hohenzollernstraße and the Passage Volkspark to Volkspark, ending at the Adolf-Nassau-Platz or Theaterplatz', 'Time': 'TBC'}, {'City': 'Freiburg im Breisgau', 'State': 'Baden-Württemberg', 'Date': 'Nov 22-Dec 23', 'Location': 'Rathausplatz, Franziskanerstraße, Unterlindenplatz and Kartoffelmarkt', 'Time': '10am-8.30pm (Mon-Sat), 11.30am-7.30pm (Sun)'}]\n",
      "\n",
      "\n",
      "[None, None, None, None, None, None, None, None, None, None, None, None, None, None, None, None, None, None, None, None, None, None, None, None, None, None, None, None, None, None, None, None, None, None, None, None, None, None, None, None, None, None, None, None, None]\n"
     ]
    }
   ],
   "source": [
    "import requests\n",
    "\n",
    "headers = {\n",
    "'Authorization': 'Bearer <keyzbRdSbMsfNyECL',\n",
    "}\n",
    "\n",
    "params = (\n",
    "('view', 'Grid view'),\n",
    ")\n",
    "\n",
    "r = requests.get('https://api.airtable.com/v0/appTZbHN6bJSG4OTc/Christmas%20Markets?api_key=keyzbRdSbMsfNyECL', headers=headers, params=params)\n",
    "dict = r.json()\n",
    "dataset = []\n",
    "productID = []\n",
    "productCode = []\n",
    "name = []\n",
    "for i in dict['records']:\n",
    "     dict = i['fields']\n",
    "     dataset.append(dict)\n",
    "print(dataset)\n",
    "print('\\n')\n",
    "for dicts in dataset:\n",
    "    productID.append(dicts.get('productID'))\n",
    "    productCode.append(dicts.get('productCode'))\n",
    "    name.append(dicts.get('name'))\n",
    "print(name)"
   ]
  }
 ],
 "metadata": {
  "kernelspec": {
   "display_name": "Python 3",
   "language": "python",
   "name": "python3"
  },
  "language_info": {
   "codemirror_mode": {
    "name": "ipython",
    "version": 3
   },
   "file_extension": ".py",
   "mimetype": "text/x-python",
   "name": "python",
   "nbconvert_exporter": "python",
   "pygments_lexer": "ipython3",
   "version": "3.7.4"
  }
 },
 "nbformat": 4,
 "nbformat_minor": 4
}
